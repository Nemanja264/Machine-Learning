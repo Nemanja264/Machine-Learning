{
 "cells": [
  {
   "cell_type": "code",
   "execution_count": 142,
   "id": "898a7167-07e2-4fae-8412-7895a8988803",
   "metadata": {},
   "outputs": [
    {
     "data": {
      "text/plain": [
       "array(['HipHop', 'Dance'], dtype=object)"
      ]
     },
     "execution_count": 142,
     "metadata": {},
     "output_type": "execute_result"
    }
   ],
   "source": [
    "import pandas as pd\n",
    "import numpy as np\n",
    "from sklearn.tree import DecisionTreeClassifier as DTC\n",
    "import joblib\n",
    "\n",
    "# music_data = pd.read_csv('music.csv')\n",
    "# X = music_data.drop(columns=['genre'])\n",
    "# y = music_data['genre']\n",
    "\n",
    "# model = DTC()\n",
    "# model.fit(X, y) # input, output\n",
    "\n",
    "# joblib.dump(model,'music-recommender.joblib') # where we save our trained model, so you dont train him everytime # doing this in training part\n",
    "model = joblib.load('music-recommender.joblib') # loading our trained model for testing\n",
    "predictions = model.predict([[21, 1], [22, 0]]) #  2 input sets, 2 predictions to make\n",
    "predictions"
   ]
  },
  {
   "cell_type": "code",
   "execution_count": null,
   "id": "e409eb0e-d13a-430b-b6a3-e340e8701942",
   "metadata": {},
   "outputs": [],
   "source": []
  }
 ],
 "metadata": {
  "kernelspec": {
   "display_name": "Python [conda env:base] *",
   "language": "python",
   "name": "conda-base-py"
  },
  "language_info": {
   "codemirror_mode": {
    "name": "ipython",
    "version": 3
   },
   "file_extension": ".py",
   "mimetype": "text/x-python",
   "name": "python",
   "nbconvert_exporter": "python",
   "pygments_lexer": "ipython3",
   "version": "3.12.7"
  }
 },
 "nbformat": 4,
 "nbformat_minor": 5
}
