{
 "cells": [
  {
   "cell_type": "code",
   "execution_count": 2535,
   "id": "0088be35-3516-4efe-945b-24c427cf230b",
   "metadata": {},
   "outputs": [
    {
     "data": {
      "text/plain": [
       "['DESCR',\n",
       " 'data',\n",
       " 'data_module',\n",
       " 'feature_names',\n",
       " 'filename',\n",
       " 'frame',\n",
       " 'target',\n",
       " 'target_names']"
      ]
     },
     "execution_count": 2535,
     "metadata": {},
     "output_type": "execute_result"
    }
   ],
   "source": [
    "import pandas as pd\n",
    "import numpy as np\n",
    "from sklearn.model_selection import cross_val_score\n",
    "from sklearn.ensemble import RandomForestClassifier\n",
    "from sklearn.linear_model import LinearRegression\n",
    "from sklearn.tree import DecisionTreeClassifier\n",
    "from sklearn.svm import SVC\n",
    "from sklearn.datasets import load_iris\n",
    "\n",
    "iris = load_iris()\n",
    "dir(iris)"
   ]
  },
  {
   "cell_type": "code",
   "execution_count": 2598,
   "id": "5a06efa4-1a98-4d31-b876-92e6aae8f71b",
   "metadata": {},
   "outputs": [
    {
     "name": "stdout",
     "output_type": "stream",
     "text": [
      "SVC score: [0.96 0.98 0.94]\n",
      "LinearRegression score: [0. 0. 0.]\n",
      "RandomForestClassifier score: [0.98 0.94 0.98]\n",
      "RandomForestClassifier score: [0.98 0.94 0.96]\n",
      "DecisionTreeClassifier score: [0.98 0.94 1.  ]\n"
     ]
    }
   ],
   "source": [
    "print(f'SVC score: {cross_val_score(SVC(), iris.data, iris.target, cv=3)}')\n",
    "print(f'LinearRegression score: {cross_val_score(LinearRegression(), iris.data, iris.target, cv=3)}') # means its not suitable for tasks like iris\n",
    "print(f'RandomForestClassifier score: {cross_val_score(RandomForestClassifier(n_estimators=20), iris.data, iris.target, cv=3)}')\n",
    "print(f'RandomForestClassifier score: {cross_val_score(RandomForestClassifier(n_estimators=90), iris.data, iris.target, cv=3)}')\n",
    "print(f'DecisionTreeClassifier score: {cross_val_score(DecisionTreeClassifier(), iris.data, iris.target, cv=3)}')\n"
   ]
  }
 ],
 "metadata": {
  "kernelspec": {
   "display_name": "Python [conda env:base] *",
   "language": "python",
   "name": "conda-base-py"
  },
  "language_info": {
   "codemirror_mode": {
    "name": "ipython",
    "version": 3
   },
   "file_extension": ".py",
   "mimetype": "text/x-python",
   "name": "python",
   "nbconvert_exporter": "python",
   "pygments_lexer": "ipython3",
   "version": "3.12.7"
  }
 },
 "nbformat": 4,
 "nbformat_minor": 5
}
