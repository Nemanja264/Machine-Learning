x1 = 2*np.random.rand(100,1)
x2 = 4*np.random.rand(100,1)
X = np.c_[x1,x2]
y = 4 + 3*x1 + 2*x2 + np.random.randn(100,1)

X_b = np.c_[np.ones((100,1)), X]
theta_best = np.linalg.inv(X_b.T @ X_b) @ X_b.T @ y

theta_best
