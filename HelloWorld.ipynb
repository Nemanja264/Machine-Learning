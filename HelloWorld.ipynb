{
 "cells": [
  {
   "cell_type": "code",
   "execution_count": 108,
   "id": "898a7167-07e2-4fae-8412-7895a8988803",
   "metadata": {},
   "outputs": [
    {
     "data": {
      "text/plain": [
       "0.5"
      ]
     },
     "execution_count": 108,
     "metadata": {},
     "output_type": "execute_result"
    }
   ],
   "source": [
    "import pandas as pd\n",
    "import numpy as np\n",
    "from sklearn.tree import DecisionTreeClassifier as DTC\n",
    "from sklearn.model_selection import train_test_split as tts\n",
    "from sklearn.metrics import accuracy_score\n",
    "\n",
    "music_data = pd.read_csv('music.csv')\n",
    "# splitting data training/test\n",
    "X = music_data.drop(columns=['genre']) # input\n",
    "y = music_data['genre'] # output\n",
    "X_train, X_test, y_train, y_test = tts(X,y, test_size = 0.2) # 20% of data for testing, randomly picked data for training and testing # returns tupple\n",
    "\n",
    "# decision tree ML algorithm\n",
    "model = DTC()\n",
    "model.fit(X_train, y_train) # input, output\n",
    "predictions = model.predict(X_test) # pd.DataFrame([[21, 1], [22, 0]], columns=X.columns) 2 input sets, 2 predictions to make\n",
    "\n",
    "score = accuracy_score(y_test, predictions) # y_test - expected values, predictions - actual values # accuracy score 0-1\n",
    "score"
   ]
  },
  {
   "cell_type": "code",
   "execution_count": null,
   "id": "e409eb0e-d13a-430b-b6a3-e340e8701942",
   "metadata": {},
   "outputs": [],
   "source": []
  }
 ],
 "metadata": {
  "kernelspec": {
   "display_name": "Python [conda env:base] *",
   "language": "python",
   "name": "conda-base-py"
  },
  "language_info": {
   "codemirror_mode": {
    "name": "ipython",
    "version": 3
   },
   "file_extension": ".py",
   "mimetype": "text/x-python",
   "name": "python",
   "nbconvert_exporter": "python",
   "pygments_lexer": "ipython3",
   "version": "3.12.7"
  }
 },
 "nbformat": 4,
 "nbformat_minor": 5
}
